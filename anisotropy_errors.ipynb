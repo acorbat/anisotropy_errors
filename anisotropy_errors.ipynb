{
 "cells": [
  {
   "cell_type": "markdown",
   "metadata": {},
   "source": [
    "# Errors in Anisotropy Estimation\n",
    "\n",
    "As in every image analysis pipeline, there are several possible errors that contribute to its wrong estimation. Understanding the effects of each kind of error will help us find the adequate corrections for them. We will analyze here the following sources:\n",
    "\n",
    "- Errors in Intensity Estimation\n",
    "- Errors in shift registration"
   ]
  },
  {
   "cell_type": "markdown",
   "metadata": {},
   "source": [
    "## Errors in Intensity Estimation\n",
    "\n",
    "Adequate intensity estimation requires that the images are corrected for inhomogeneities in illumination and background. What are the effects of imperfect corrections of these sources? How are these appreciated in experiments?"
   ]
  },
  {
   "cell_type": "code",
   "execution_count": null,
   "metadata": {},
   "outputs": [],
   "source": [
    "from ipywidgets import interact\n",
    "import matplotlib.pyplot as plt\n",
    "import numpy as np\n",
    "\n",
    "import anisotropy_functions as af\n",
    "from cell_sim import Cell, Biosensor, Microscope, Corrector"
   ]
  },
  {
   "cell_type": "code",
   "execution_count": null,
   "metadata": {},
   "outputs": [],
   "source": [
    "@interact(I_factor=(0, 2000, 100), \n",
    "          a_dimer=(0, 0.4, 0.02), a_monomer=(0, 0.4, 0.02), \n",
    "          e_par=(-1000, 1000, 50), e_per=(-1000, 1000, 50))\n",
    "def plot(I_factor=1000, a_dimer=0.22, a_monomer=0.3, e_par=-400, e_per=-400):\n",
    "    monomer_fraction = 1 / (1 + np.exp(-np.arange(-50, 50)/6))\n",
    "    anisotropy = af.anisotropy_from_monomer(monomer_fraction, a_monomer, a_dimer, 1)\n",
    "    total_fluo = af.total_fluorescence_from_monomer(monomer_fraction, 1, I_factor)\n",
    "    I_parallel = af.intensity_parallel_from_anisotropy(anisotropy, total_fluo) + e_par\n",
    "    I_perpendicular = af.intensity_perpendicular_from_anisotropy(anisotropy, total_fluo) + e_per\n",
    "    anisotropy_from_int = af.anisotropy_from_intensity(I_parallel, \n",
    "                                                       I_perpendicular)\n",
    "    \n",
    "    fig, axs = plt.subplots(2, 1, sharex=True, figsize=(5, 7))\n",
    "    \n",
    "    axs[0].plot(I_parallel, c='g', label='Parallel')\n",
    "    axs[0].plot(I_perpendicular, c='b', label='Perpendicular')\n",
    "    axs[0].legend()\n",
    "    axs[0].set_ylabel('Intensity')\n",
    "    \n",
    "    axs[1].axhline(y=a_dimer, color='k', ls='--')\n",
    "    axs[1].axhline(y=a_monomer, color='k', ls='--')\n",
    "    axs[1].plot(anisotropy_from_int, color='r', label='Estimated')\n",
    "    axs[1].plot(anisotropy, color='r', alpha=0.5, label='Objective')\n",
    "    axs[1].set_ylabel('Anisotropy')\n",
    "    axs[1].legend()\n",
    "\n",
    "    plt.subplots_adjust(hspace=0)\n",
    "    plt.show()"
   ]
  },
  {
   "cell_type": "code",
   "execution_count": null,
   "metadata": {},
   "outputs": [],
   "source": [
    "def plot(I_factor=0.3, a_dimer=0.22, a_monomer=0.3, e_par=-400, e_per=-400):\n",
    "    monomer_fraction = 1 / (1 + np.exp(-np.arange(-50, 50)/6))\n",
    "    anisotropy = af.anisotropy_from_monomer(monomer_fraction, a_monomer, a_dimer, 1)\n",
    "    total_fluo = af.total_fluorescence_from_monomer(monomer_fraction, 1, I_factor)\n",
    "    I_parallel = af.intensity_parallel_from_anisotropy(anisotropy, total_fluo) + e_par\n",
    "    I_perpendicular = af.intensity_perpendicular_from_anisotropy(anisotropy, total_fluo) + e_per\n",
    "    anisotropy_from_int = af.anisotropy_from_intensity(I_parallel, \n",
    "                                                       I_perpendicular)\n",
    "    \n",
    "    fig, axs = plt.subplots(2, 1, sharex=True, figsize=(5, 7))\n",
    "    \n",
    "    axs[0].plot(I_parallel, c='g', label='Paralelo')\n",
    "    axs[0].plot(I_perpendicular, c='b', label='Perpendicular')\n",
    "    axs[0].plot(I_parallel - e_par, c='g', alpha=0.5, label='Real')\n",
    "    axs[0].plot(I_perpendicular - e_per, c='b', alpha=0.5, label='Real')\n",
    "    axs[0].legend()\n",
    "    axs[0].set_ylabel('Intensidad (u.a.)')\n",
    "    \n",
    "    axs[1].axhline(y=a_dimer, color='k', ls='--')\n",
    "    axs[1].axhline(y=a_monomer, color='k', ls='--')\n",
    "    axs[1].plot(anisotropy_from_int, color='r', label='Estimado')\n",
    "    axs[1].plot(anisotropy, color='r', alpha=0.5, label='Real')\n",
    "    axs[1].set_ylabel('Anisotropía')\n",
    "    axs[1].set_xlabel('Tiempo (min.)')\n",
    "    axs[1].legend()\n",
    "    plt.subplots_adjust(hspace=0)\n",
    "    \n",
    "    plt.savefig('error_bkg.svg', format='svg')"
   ]
  },
  {
   "cell_type": "code",
   "execution_count": null,
   "metadata": {},
   "outputs": [],
   "source": [
    "plot(I_factor=1000, a_dimer=0.22, a_monomer=0.3, e_par=0, e_per=-10)\n"
   ]
  },
  {
   "cell_type": "markdown",
   "metadata": {},
   "source": [
    "It is important to notice that there different monomer and dimer anisotropies are possible depending on the errors. We must highlight that in some cases monomer anisotropy might be higher than dimer anisotropy, and this looks like a reversed anisotropy curve. Aditionally, theoritacally impossible values are also possible depending on the magnitude of the errors. Furthermore, if the error in intensity has a time dependance this will affect the shape of the curve. "
   ]
  },
  {
   "cell_type": "markdown",
   "metadata": {},
   "source": [
    "## Errors in shift registration\n",
    "\n",
    "Due to the thickness of high quality polarizers, it is likely that parallel and perpendicular images are shifted between each other. If we were to generate an anisotropy image, we need to be able to correct this shift. What happens if this is not adequately corrected? How can we bypass these problems? How can we estimate the best correction?"
   ]
  },
  {
   "cell_type": "markdown",
   "metadata": {},
   "source": [
    "Let's begin by generating a simulated squared cell with a gradient of concentration of biosensors. We can choose the maximum number of biosensors expected and if we are to add poisson noise to this number."
   ]
  },
  {
   "cell_type": "code",
   "execution_count": null,
   "metadata": {},
   "outputs": [],
   "source": [
    "proteins = 800\n",
    "poisson = True\n",
    "\n",
    "cell = Cell(proteins, poisson)"
   ]
  },
  {
   "cell_type": "code",
   "execution_count": null,
   "metadata": {},
   "outputs": [],
   "source": [
    "plt.imshow(cell.cell_image, interpolation='none')\n",
    "plt.colorbar()\n",
    "plt.axis('off')\n",
    "plt.show()"
   ]
  },
  {
   "cell_type": "markdown",
   "metadata": {},
   "source": [
    "Let's define an anisotropy state for the cell."
   ]
  },
  {
   "cell_type": "code",
   "execution_count": null,
   "metadata": {},
   "outputs": [],
   "source": [
    "anisotropy = 0.26\n",
    "cell.add_biosensor({'anisotropy_monomer':0.3, 'anisotropy_dimer': 0.22, 'delta_b': 0.15})\n",
    "\n",
    "cell.generate_intensity_images(anisotropy)"
   ]
  },
  {
   "cell_type": "code",
   "execution_count": null,
   "metadata": {},
   "outputs": [],
   "source": [
    "fig, axs = plt.subplots(2, 2, figsize=(8, 8))\n",
    "axs = axs.flatten()\n",
    "\n",
    "this_im = axs[0].imshow(cell.parallel_image, interpolation='none')\n",
    "fig.colorbar(this_im, ax=axs[0])\n",
    "\n",
    "axs[0].axis('off')\n",
    "axs[0].set_title('Parallel Image')\n",
    "\n",
    "this_im = axs[1].imshow(cell.perpendicular_image, interpolation='none')\n",
    "fig.colorbar(this_im, ax=axs[1])\n",
    "\n",
    "axs[1].axis('off')\n",
    "axs[1].set_title('Perpendicular Image')\n",
    "\n",
    "axs[2].hist(cell.parallel_image[200:800, 200:800].flatten(), bins=100, log=True)\n",
    "axs[2].set_title('Parallel Image Histogram')\n",
    "\n",
    "axs[3].hist(cell.perpendicular_image[200:800, 200:800].flatten(), bins=100, log=True)\n",
    "axs[3].set_title('Perpendicular Image Histogram')\n",
    "\n",
    "plt.show()"
   ]
  },
  {
   "cell_type": "markdown",
   "metadata": {},
   "source": [
    "We should estimate now the anisotropy image before adding acquisition noise."
   ]
  },
  {
   "cell_type": "code",
   "execution_count": null,
   "metadata": {},
   "outputs": [],
   "source": [
    "non_acquired_anisotropy_image = np.zeros_like(cell.parallel_image)\n",
    "nonzeros = cell.mask\n",
    "non_acquired_anisotropy_image[nonzeros] = af.anisotropy_from_intensity(cell.parallel_image[nonzeros], cell.perpendicular_image[nonzeros])"
   ]
  },
  {
   "cell_type": "code",
   "execution_count": null,
   "metadata": {},
   "outputs": [],
   "source": [
    "fig, axs = plt.subplots(1, 2, figsize=(10, 4))\n",
    "\n",
    "this_im = axs[0].imshow(non_acquired_anisotropy_image, vmin=0.19, vmax=0.4, interpolation='none')\n",
    "axs[0].axis('off')\n",
    "fig.colorbar(this_im, ax=axs[0])\n",
    "\n",
    "axs[1].hist(non_acquired_anisotropy_image[cell.mask].flatten(), bins=np.arange(0.2, 0.3, 0.001))\n",
    "axs[1].axvline(x=anisotropy, color='k', ls='--')\n",
    "\n",
    "plt.show()"
   ]
  },
  {
   "cell_type": "markdown",
   "metadata": {},
   "source": [
    "After obtaining both intensity images, we could add some aquisition noise to the images."
   ]
  },
  {
   "cell_type": "code",
   "execution_count": null,
   "metadata": {},
   "outputs": [],
   "source": [
    "microscope = Microscope()\n",
    "\n",
    "parallel_image, perpendicular_image = microscope.acquire_cell(cell)"
   ]
  },
  {
   "cell_type": "code",
   "execution_count": null,
   "metadata": {},
   "outputs": [],
   "source": [
    "fig, axs = plt.subplots(2, 2, figsize=(8, 8))\n",
    "axs = axs.flatten()\n",
    "\n",
    "this_im = axs[0].imshow(parallel_image, interpolation='none')\n",
    "fig.colorbar(this_im, ax=axs[0])\n",
    "\n",
    "axs[0].axis('off')\n",
    "axs[0].set_title('Parallel Image')\n",
    "\n",
    "this_im = axs[1].imshow(perpendicular_image, interpolation='none')\n",
    "fig.colorbar(this_im, ax=axs[1])\n",
    "\n",
    "axs[1].axis('off')\n",
    "axs[1].set_title('Perpendicular Image')\n",
    "\n",
    "axs[2].hist(parallel_image.flatten(), bins=100, log=True)\n",
    "axs[2].set_title('Parallel Image Histogram')\n",
    "\n",
    "axs[3].hist(perpendicular_image.flatten(), bins=100, log=True)\n",
    "axs[3].set_title('Perpendicular Image Histogram')\n",
    "\n",
    "plt.show()"
   ]
  },
  {
   "cell_type": "code",
   "execution_count": null,
   "metadata": {},
   "outputs": [],
   "source": [
    "anisotropy_image = np.zeros_like(parallel_image)\n",
    "nonzeros = cell.mask\n",
    "anisotropy_image[nonzeros] = af.anisotropy_from_intensity(parallel_image[nonzeros], perpendicular_image[nonzeros])"
   ]
  },
  {
   "cell_type": "code",
   "execution_count": null,
   "metadata": {},
   "outputs": [],
   "source": [
    "fig, axs = plt.subplots(1, 2, figsize=(10, 4))\n",
    "\n",
    "this_im = axs[0].imshow(anisotropy_image, interpolation='none')\n",
    "axs[0].axis('off')\n",
    "fig.colorbar(this_im, ax=axs[0])\n",
    "\n",
    "axs[1].hist(anisotropy_image[cell.mask].flatten(), bins=100)\n",
    "axs[1].axvline(x=anisotropy, color='k', ls='--')\n",
    "\n",
    "plt.show()"
   ]
  },
  {
   "cell_type": "markdown",
   "metadata": {},
   "source": [
    "Now we need to add the image analysis steps and corrections we would normally implement to test them and choose the best option."
   ]
  },
  {
   "cell_type": "code",
   "execution_count": null,
   "metadata": {},
   "outputs": [],
   "source": [
    "corrector = Corrector()\n",
    "corrected_parallel, corrected_perpendicular = corrector.correct(parallel_image, perpendicular_image)"
   ]
  },
  {
   "cell_type": "code",
   "execution_count": null,
   "metadata": {},
   "outputs": [],
   "source": [
    "fig, axs = plt.subplots(2, 2, figsize=(8, 8))\n",
    "axs = axs.flatten()\n",
    "\n",
    "this_im = axs[0].imshow(corrected_parallel, interpolation='none')\n",
    "fig.colorbar(this_im, ax=axs[0])\n",
    "\n",
    "axs[0].axis('off')\n",
    "axs[0].set_title('Parallel Image')\n",
    "\n",
    "this_im = axs[1].imshow(corrected_perpendicular, interpolation='none')\n",
    "fig.colorbar(this_im, ax=axs[1])\n",
    "\n",
    "axs[1].axis('off')\n",
    "axs[1].set_title('Perpendicular Image')\n",
    "\n",
    "axs[2].hist(corrected_parallel.flatten(), bins=100, log=True)\n",
    "axs[2].set_title('Parallel Image Histogram')\n",
    "\n",
    "axs[3].hist(corrected_perpendicular.flatten(), bins=100, log=True)\n",
    "axs[3].set_title('Perpendicular Image Histogram')\n",
    "\n",
    "plt.show()"
   ]
  },
  {
   "cell_type": "code",
   "execution_count": null,
   "metadata": {},
   "outputs": [],
   "source": [
    "corrected_anisotropy_image = np.zeros_like(corrected_parallel)\n",
    "nonzeros = np.nonzero(corrected_parallel)\n",
    "corrected_anisotropy_image[nonzeros] = af.anisotropy_from_intensity(corrected_parallel[nonzeros], corrected_perpendicular[nonzeros])"
   ]
  },
  {
   "cell_type": "code",
   "execution_count": null,
   "metadata": {},
   "outputs": [],
   "source": [
    "fig, axs = plt.subplots(1, 2, figsize=(10, 4))\n",
    "\n",
    "this_im = axs[0].imshow(corrected_anisotropy_image, vmin=0.15, vmax=0.3, interpolation='none')\n",
    "axs[0].axis('off')\n",
    "fig.colorbar(this_im, ax=axs[0])\n",
    "\n",
    "axs[1].hist(corrected_anisotropy_image[cell.mask].flatten(), bins=100, log=True)\n",
    "axs[1].axvline(x=anisotropy, color='k', ls='--')\n",
    "\n",
    "plt.show()"
   ]
  },
  {
   "cell_type": "markdown",
   "metadata": {},
   "source": [
    "Up to here looks like the correction worked and generated a good anisotropy image."
   ]
  },
  {
   "cell_type": "markdown",
   "metadata": {},
   "source": [
    "What would happen if our shift correction was not perfect? What happens if our background correction is not perfect?"
   ]
  },
  {
   "cell_type": "code",
   "execution_count": null,
   "metadata": {},
   "outputs": [],
   "source": [
    "(x_shift, y_shift) = (-3, -6)\n",
    "\n",
    "imperfect_corrector = Corrector()\n",
    "# imperfect_corrector.bkg_params ={'bkg_value': bkg_value}\n",
    "imperfect_corrector.shift = (x_shift, y_shift)\n",
    "corrected_parallel, corrected_perpendicular = imperfect_corrector.correct(parallel_image, perpendicular_image)"
   ]
  },
  {
   "cell_type": "code",
   "execution_count": null,
   "metadata": {},
   "outputs": [],
   "source": [
    "corrected_anisotropy_image = np.zeros_like(corrected_parallel)\n",
    "nonzeros = np.nonzero(corrected_parallel)\n",
    "corrected_anisotropy_image[nonzeros] = af.anisotropy_from_intensity(corrected_parallel[nonzeros], corrected_perpendicular[nonzeros])"
   ]
  },
  {
   "cell_type": "code",
   "execution_count": null,
   "metadata": {},
   "outputs": [],
   "source": [
    "mask = np.zeros_like(corrected_anisotropy_image).astype(bool)\n",
    "mask[60:140, 60:140] = True"
   ]
  },
  {
   "cell_type": "code",
   "execution_count": null,
   "metadata": {},
   "outputs": [],
   "source": [
    "fig, axs = plt.subplots(1, 2, figsize=(10, 4))\n",
    "\n",
    "this_im = axs[0].imshow(corrected_anisotropy_image, vmin=0.15, vmax=0.3, cmap='plasma', interpolation='none')\n",
    "axs[0].axis('off')\n",
    "fig.colorbar(this_im, ax=axs[0])\n",
    "\n",
    "axs[1].hist(corrected_anisotropy_image[mask].flatten(), log=True, bins=np.arange(0.1, 0.45, 0.002))\n",
    "axs[1].axvline(x=anisotropy, color='k', ls='--')\n",
    "axs[1].set_xlabel('Anisotropía')\n",
    "axs[1].set_ylabel('Cuentas')\n",
    "\n",
    "plt.savefig('anisotropy_variance_shifted.svg', format='svg')\n",
    "plt.show()"
   ]
  },
  {
   "cell_type": "code",
   "execution_count": null,
   "metadata": {},
   "outputs": [],
   "source": [
    "np.mean(corrected_anisotropy_image[mask].flatten())"
   ]
  },
  {
   "cell_type": "code",
   "execution_count": null,
   "metadata": {},
   "outputs": [],
   "source": [
    "from matplotlib import colors\n",
    "import matplotlib as mpl"
   ]
  },
  {
   "cell_type": "code",
   "execution_count": null,
   "metadata": {},
   "outputs": [],
   "source": [
    "def plot(I_factor=0.3, a_dimer=0.22, a_monomer=0.3):\n",
    "    monomer_fraction = 1 / (1 + np.exp(-np.arange(-50, 50)/8))\n",
    "    bs = np.arange(0.7, 1.3, 0.1)\n",
    "    \n",
    "    fig, axs = plt.subplots(3, 1, sharex=True, figsize=(5, 8))\n",
    "    cmaps = {b: plt.cm.coolwarm(colors.Normalize(vmin=bs[0], vmax=bs[-1])(b)) for b in bs}\n",
    "    \n",
    "    for b in bs:\n",
    "        anisotropy = af.anisotropy_from_monomer(monomer_fraction, a_monomer, a_dimer, b)\n",
    "        der_ani = np.diff(anisotropy)\n",
    "\n",
    "        axs[0].plot(anisotropy, color=cmaps[b], alpha=0.7)\n",
    "        \n",
    "        anisotropy_normalized = anisotropy[:-1] - np.min(anisotropy)\n",
    "        anisotropy_normalized = anisotropy_normalized / np.max(anisotropy_normalized)\n",
    "        activity = der_ani / ((1 + (b-1) * anisotropy_normalized) ** 2)\n",
    "        \n",
    "        axs[1].plot(der_ani / np.max(der_ani), color=cmaps[b], alpha=0.7)\n",
    "        \n",
    "        axs[2].plot(activity / np.max(activity), color=cmaps[b], alpha=0.7)\n",
    "    \n",
    "    axs[0].axhline(y=a_dimer, color='k', ls='--')\n",
    "    axs[0].axhline(y=a_monomer, color='k', ls='--')\n",
    "    axs[1].axhline(y=0, color='k')\n",
    "    axs[2].axhline(y=0, color='k')\n",
    "        \n",
    "    axs[0].set_ylabel('Anisotropía')\n",
    "    axs[1].set_ylabel('Derivada de Anisotropía')\n",
    "    axs[2].set_ylabel('Actividad')\n",
    "    axs[2].set_xlabel('Tiempo (min.)')\n",
    "    plt.subplots_adjust(hspace=0)\n",
    "    \n",
    "#     col_map = plt.get_cmap('coolwarm')\n",
    "#     mpl.colorbar.ColorbarBase(axs[0], cmap=col_map, orientation = 'vertical')\n",
    "\n",
    "    # As for a more fancy example, you can also give an axes by hand:\n",
    "#     c_map_ax = fig.add_axes([0.2, 0.8, 0.6, 0.02])\n",
    "#     c_map_ax.axes.get_xaxis().set_visible(False)\n",
    "#     c_map_ax.axes.get_yaxis().set_visible(False)\n",
    "\n",
    "    # and create another colorbar with:\n",
    "#     mpl.colorbar.ColorbarBase(c_map_ax, cmap=col_map, orientation = 'horizontal')\n",
    "    \n",
    "    plt.savefig('sweep_b.svg', format='svg')\n",
    "    plt.show()"
   ]
  },
  {
   "cell_type": "code",
   "execution_count": null,
   "metadata": {},
   "outputs": [],
   "source": [
    "plot(1000, 0.22, 0.3)"
   ]
  },
  {
   "cell_type": "code",
   "execution_count": null,
   "metadata": {},
   "outputs": [],
   "source": [
    "bs = np.arange(0.7, 1.3, 0.1)\n",
    "plt.imshow(np.stack(np.array([np.array(bs)]*7)), cmap='coolwarm', alpha=0.7)\n",
    "\n",
    "plt.colorbar()\n",
    "\n",
    "plt.savefig('just_colorbar.svg', bbox_inches='tight', format='svg')"
   ]
  },
  {
   "cell_type": "code",
   "execution_count": null,
   "metadata": {},
   "outputs": [],
   "source": [
    "I_factor=1000\n",
    "a_dimer=0.22\n",
    "a_monomer=0.3\n",
    "\n",
    "monomer_fraction = 1 / (1 + np.exp(-np.arange(-50, 50)/8))\n",
    "anisotropy = af.anisotropy_from_monomer(monomer_fraction, a_monomer, a_dimer, 1)\n",
    "total_fluo = af.total_fluorescence_from_monomer(monomer_fraction, 1, I_factor)\n",
    "I_parallel = af.intensity_parallel_from_anisotropy(anisotropy, total_fluo)\n",
    "I_perpendicular = af.intensity_perpendicular_from_anisotropy(anisotropy, total_fluo)\n",
    "anisotropy_from_int = af.anisotropy_from_intensity(I_parallel, \n",
    "                                                   I_perpendicular)\n",
    "\n",
    "fig, axs = plt.subplots(3, 1, sharex=True, figsize=(5, 9))\n",
    "\n",
    "axs[0].axhline(y=0, color='k', ls='--')\n",
    "axs[0].axhline(y=1, color='k', ls='--')\n",
    "axs[0].plot(monomer_fraction, c='b')\n",
    "axs[0].set_ylabel('Fracción de Monómero')\n",
    "\n",
    "axs[1].plot(I_parallel, c='g', label='Paralelo')\n",
    "axs[1].plot(I_perpendicular, c='b', label='Perpendicular')\n",
    "axs[1].legend()\n",
    "axs[1].set_ylabel('Intensidad (u.a.)')\n",
    "\n",
    "axs[2].axhline(y=a_dimer, color='k', ls='--')\n",
    "axs[2].axhline(y=a_monomer, color='k', ls='--')\n",
    "axs[2].plot(anisotropy, color='r')\n",
    "axs[2].set_ylabel('Anisotropía')\n",
    "axs[2].set_xlabel('Tiempo (min.)')\n",
    "\n",
    "plt.subplots_adjust(hspace=0)\n",
    "plt.savefig('mono_to_ani.svg', format='svg')"
   ]
  },
  {
   "cell_type": "code",
   "execution_count": null,
   "metadata": {},
   "outputs": [],
   "source": [
    "from scipy.signal import savgol_filter\n",
    "from scipy.interpolate import splrep, splev\n",
    "\n",
    "\n",
    "def calculate_activity(ani, window_length=5, delta=5, delta_b=0):\n",
    "    der = savgol_filter(ani, window_length=window_length,\n",
    "                        polyorder=2,\n",
    "                        deriv=1, delta=delta, mode='nearest')\n",
    "\n",
    "    anisotropy_normalized = ani - np.min(ani)\n",
    "    anisotropy_normalized = anisotropy_normalized / np.max(anisotropy_normalized)\n",
    "    activity = der / ((1 + delta_b * anisotropy_normalized) ** 2)\n",
    "    return activity\n",
    "\n",
    "def interpolate(new_time, time, curve):\n",
    "    \"\"\"Interpolate curve using new_time as xdata\"\"\"\n",
    "    if not np.isfinite(time).all():\n",
    "        return np.array([np.nan])\n",
    "\n",
    "    f = splrep(time, curve, k=3)\n",
    "    return splev(new_time, f, der=0)"
   ]
  },
  {
   "cell_type": "code",
   "execution_count": null,
   "metadata": {},
   "outputs": [],
   "source": [
    "I_factor=1000\n",
    "a_dimer=0.22\n",
    "a_monomer=0.3\n",
    "time = np.arange(0, len(monomer_fraction))\n",
    "\n",
    "monomer_fraction = 1 / (1 + np.exp(-np.arange(-50, 50)/6))\n",
    "anisotropy = af.anisotropy_from_monomer(monomer_fraction, a_monomer, a_dimer, 1)\n",
    "anisotropy_spaced = anisotropy[::5]\n",
    "time = np.arange(0, len(monomer_fraction))\n",
    "time_spaced = time[::5]\n",
    "\n",
    "fig, axs = plt.subplots(3, 1, sharex=True, figsize=(3, 6))\n",
    "time_maxs = []\n",
    "for i in range(1000):\n",
    "    anisotropy_exp = anisotropy_spaced + np.random.normal(0, 0.003, len(anisotropy_spaced))\n",
    "    activity_exp = calculate_activity(anisotropy_exp)\n",
    "    activity_interp = interpolate(time, time_spaced, activity_exp)\n",
    "    time_maxs.append(np.where(activity_interp[:-10] == np.max(activity_interp[:-10]))[0][0])\n",
    "    \n",
    "    axs[0].plot(time_spaced, anisotropy_exp, alpha=0.3)\n",
    "    \n",
    "    axs[1].plot(time[:-10], activity_interp[:-10], alpha=0.3)\n",
    "\n",
    "axs[0].plot(time[:-5], anisotropy[:-5], color='k', linewidth=3)\n",
    "axs[0].plot(time[:-5], anisotropy[:-5], color='r')\n",
    "\n",
    "activity_real = calculate_activity(anisotropy, window_length=25, delta=1)\n",
    "axs[1].plot(time[:-10], activity_real[:-10], color='k', linewidth=3)\n",
    "axs[1].plot(time[:-10], activity_real[:-10], color='r')\n",
    "\n",
    "axs[2].axvline(x=50, color='k', alpha=0.7, linestyle='--')\n",
    "axs[2].hist(time_maxs, bins=time)\n",
    "\n",
    "axs[0].set_ylabel('Anisotropía')\n",
    "axs[1].set_ylabel('Actividad')\n",
    "axs[2].set_ylabel('Cuentas')\n",
    "axs[2].set_xlabel('Tiempo (min.)')\n",
    "\n",
    "axs[0].set_yticks([0.2, 0.25, 0.3])\n",
    "axs[1].set_yticks([])\n",
    "\n",
    "plt.subplots_adjust(hspace=0)\n",
    "plt.savefig('savgol_test.svg', format='svg')\n",
    "plt.show()"
   ]
  },
  {
   "cell_type": "code",
   "execution_count": null,
   "metadata": {},
   "outputs": [],
   "source": [
    "np.std(time_maxs)"
   ]
  },
  {
   "cell_type": "code",
   "execution_count": null,
   "metadata": {},
   "outputs": [],
   "source": [
    "fig, axs = plt.subplots(3, 1, sharex=True, figsize=(5, 8))\n",
    "\n",
    "axs[0].plot(time, monomer_fraction)\n",
    "\n",
    "axs[1].axvline(x=49.5, color='k', alpha=0.7, linestyle='--')\n",
    "axs[1].plot(time[:-1], np.diff(monomer_fraction))\n",
    "\n",
    "axs[2].axvline(x=49.5, color='k', alpha=0.7, linestyle='--')\n",
    "axs[2].plot(time[:-1], np.diff(monomer_fraction))\n",
    "\n",
    "axs[0].set_ylabel('Anisotropía')\n",
    "axs[1].set_ylabel('Actividad')\n",
    "axs[2].set_ylabel('Derivada de\\nFracción Monómero')\n",
    "axs[2].set_xlabel('Tiempo (min.)')\n",
    "\n",
    "axs[1].set_yticks([])\n",
    "axs[2].set_yticks([])\n",
    "\n",
    "plt.subplots_adjust(hspace=0)\n",
    "plt.savefig('monomer_ders.svg', format='svg')\n",
    "plt.show()"
   ]
  },
  {
   "cell_type": "code",
   "execution_count": null,
   "metadata": {},
   "outputs": [],
   "source": []
  }
 ],
 "metadata": {
  "kernelspec": {
   "display_name": "jupyter",
   "language": "python",
   "name": "jupyter"
  },
  "language_info": {
   "codemirror_mode": {
    "name": "ipython",
    "version": 3
   },
   "file_extension": ".py",
   "mimetype": "text/x-python",
   "name": "python",
   "nbconvert_exporter": "python",
   "pygments_lexer": "ipython3",
   "version": "3.8.3"
  }
 },
 "nbformat": 4,
 "nbformat_minor": 4
}
